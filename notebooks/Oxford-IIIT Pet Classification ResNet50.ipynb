{
 "cells": [
  {
   "cell_type": "markdown",
   "metadata": {},
   "source": [
    "Notebook Training Run on Kaggle:\n",
    "https://www.kaggle.com/code/ahmedkhalifa1999/oxford-iiit-pet-classification-resnet50"
   ]
  },
  {
   "cell_type": "code",
   "execution_count": null,
   "metadata": {
    "_cell_guid": "b1076dfc-b9ad-4769-8c92-a6c4dae69d19",
    "_uuid": "8f2839f25d086af736a60e9eeb907d3b93b6e0e5",
    "execution": {
     "iopub.execute_input": "2025-02-21T11:14:42.417577Z",
     "iopub.status.busy": "2025-02-21T11:14:42.417269Z",
     "iopub.status.idle": "2025-02-21T11:14:42.421974Z",
     "shell.execute_reply": "2025-02-21T11:14:42.421095Z",
     "shell.execute_reply.started": "2025-02-21T11:14:42.417549Z"
    },
    "trusted": true
   },
   "outputs": [],
   "source": [
    "import torch"
   ]
  },
  {
   "cell_type": "code",
   "execution_count": null,
   "metadata": {
    "execution": {
     "iopub.execute_input": "2025-02-21T11:27:36.570193Z",
     "iopub.status.busy": "2025-02-21T11:27:36.569919Z",
     "iopub.status.idle": "2025-02-21T11:27:36.631525Z",
     "shell.execute_reply": "2025-02-21T11:27:36.630666Z",
     "shell.execute_reply.started": "2025-02-21T11:27:36.570172Z"
    },
    "trusted": true
   },
   "outputs": [],
   "source": [
    "from torchvision.datasets import OxfordIIITPet\n",
    "from torchvision.transforms import ToTensor, Compose, Resize, Normalize, RandomResizedCrop, RandomHorizontalFlip, RandomRotation, ColorJitter\n",
    "from torch.utils.data import random_split, DataLoader\n",
    "\n",
    "batch_size = 128\n",
    "image_size = 224\n",
    "\n",
    "train_data_transform = Compose([\n",
    "    Resize((image_size, image_size)),\n",
    "    RandomResizedCrop(image_size, scale=(0.8, 1.0), ratio = (0.9, 1.1)),\n",
    "    RandomHorizontalFlip(),\n",
    "    RandomRotation(7),\n",
    "    ColorJitter(brightness=0.25, contrast=0.25, saturation=0.25, hue=0.25),\n",
    "    ToTensor(),\n",
    "    Normalize(mean=[0.485, 0.456, 0.406], std=[0.229, 0.224, 0.225]),\n",
    "])\n",
    "\n",
    "data_transform = Compose([\n",
    "    Resize((image_size, image_size)),\n",
    "    ToTensor(),\n",
    "    Normalize(mean=[0.485, 0.456, 0.406], std=[0.229, 0.224, 0.225]),\n",
    "])\n",
    "\n",
    "trainval_dataset = OxfordIIITPet(root = '../data', split = 'trainval', transform = train_data_transform, target_types = 'category', download = True)\n",
    "\n",
    "train_dataset, val_dataset = random_split(dataset = trainval_dataset, lengths = [0.8, 0.2])\n",
    "\n",
    "test_dataset = OxfordIIITPet(root = '../data', split = 'test', transform = data_transform, target_types = 'category', download = True)\n",
    "\n",
    "train_dataloader = DataLoader(train_dataset, batch_size, shuffle=True, pin_memory = True)\n",
    "val_dataloader = DataLoader(val_dataset, batch_size, pin_memory = True)\n",
    "test_dataloader = DataLoader(test_dataset, batch_size, pin_memory = True)"
   ]
  },
  {
   "cell_type": "code",
   "execution_count": null,
   "metadata": {
    "execution": {
     "iopub.execute_input": "2025-02-21T11:14:42.503087Z",
     "iopub.status.busy": "2025-02-21T11:14:42.502827Z",
     "iopub.status.idle": "2025-02-21T11:14:42.507507Z",
     "shell.execute_reply": "2025-02-21T11:14:42.506805Z",
     "shell.execute_reply.started": "2025-02-21T11:14:42.503067Z"
    },
    "trusted": true
   },
   "outputs": [],
   "source": [
    "print(f'Training Dataset Length: {len(train_dataset)}')\n",
    "print(f'Validation Dataset Length: {len(val_dataset)}')\n",
    "print(f'Testing Dataset Length: {len(test_dataset)}')"
   ]
  },
  {
   "cell_type": "code",
   "execution_count": null,
   "metadata": {
    "execution": {
     "iopub.execute_input": "2025-02-21T11:14:42.509014Z",
     "iopub.status.busy": "2025-02-21T11:14:42.508791Z",
     "iopub.status.idle": "2025-02-21T11:14:42.948272Z",
     "shell.execute_reply": "2025-02-21T11:14:42.947366Z",
     "shell.execute_reply.started": "2025-02-21T11:14:42.508996Z"
    },
    "trusted": true
   },
   "outputs": [],
   "source": [
    "from torchvision.models import resnet50, ResNet50_Weights\n",
    "\n",
    "model = resnet50(ResNet50_Weights.DEFAULT)"
   ]
  },
  {
   "cell_type": "code",
   "execution_count": null,
   "metadata": {
    "execution": {
     "iopub.execute_input": "2025-02-21T11:14:42.949762Z",
     "iopub.status.busy": "2025-02-21T11:14:42.949518Z",
     "iopub.status.idle": "2025-02-21T11:14:42.954284Z",
     "shell.execute_reply": "2025-02-21T11:14:42.953438Z",
     "shell.execute_reply.started": "2025-02-21T11:14:42.949741Z"
    },
    "trusted": true
   },
   "outputs": [],
   "source": [
    "from torch import nn\n",
    "\n",
    "model.fc = nn.Sequential(\n",
    "    nn.Dropout(0.5),\n",
    "    nn.Linear(2048, 37)\n",
    ")"
   ]
  },
  {
   "cell_type": "code",
   "execution_count": null,
   "metadata": {
    "execution": {
     "iopub.execute_input": "2025-02-21T11:14:42.955443Z",
     "iopub.status.busy": "2025-02-21T11:14:42.955158Z",
     "iopub.status.idle": "2025-02-21T11:14:43.013389Z",
     "shell.execute_reply": "2025-02-21T11:14:43.012566Z",
     "shell.execute_reply.started": "2025-02-21T11:14:42.955417Z"
    },
    "trusted": true
   },
   "outputs": [],
   "source": [
    "device = torch.device(\"cuda\")\n",
    "\n",
    "model.to(device);"
   ]
  },
  {
   "cell_type": "code",
   "execution_count": null,
   "metadata": {
    "execution": {
     "iopub.execute_input": "2025-02-21T11:14:43.014496Z",
     "iopub.status.busy": "2025-02-21T11:14:43.014214Z",
     "iopub.status.idle": "2025-02-21T11:14:43.019093Z",
     "shell.execute_reply": "2025-02-21T11:14:43.018470Z",
     "shell.execute_reply.started": "2025-02-21T11:14:43.014475Z"
    },
    "trusted": true
   },
   "outputs": [],
   "source": [
    "from torch import optim\n",
    "\n",
    "criterion = nn.CrossEntropyLoss()\n",
    "optimizer = optim.SGD(model.parameters(), lr = 0.001, momentum = 0.9, weight_decay = 1e-3)"
   ]
  },
  {
   "cell_type": "code",
   "execution_count": null,
   "metadata": {
    "execution": {
     "iopub.execute_input": "2025-02-21T11:14:43.020227Z",
     "iopub.status.busy": "2025-02-21T11:14:43.019913Z",
     "iopub.status.idle": "2025-02-21T11:27:33.723082Z",
     "shell.execute_reply": "2025-02-21T11:27:33.721787Z",
     "shell.execute_reply.started": "2025-02-21T11:14:43.020186Z"
    },
    "trusted": true
   },
   "outputs": [],
   "source": [
    "epochs = 5\n",
    "for epoch in range(epochs):\n",
    "    epoch_loss = 0.0\n",
    "    batch_count = 0\n",
    "    for i, data in enumerate(train_dataloader, 0):\n",
    "        inputs, labels = data\n",
    "        inputs, labels = inputs.to(device), labels.to(device)\n",
    "\n",
    "        optimizer.zero_grad()\n",
    "\n",
    "        outputs = model(inputs)\n",
    "        loss = criterion(outputs, labels)\n",
    "        loss.backward()                \n",
    "        optimizer.step()\n",
    "\n",
    "        print(f'[{epoch + 1}, {i + 1}] loss: {loss}')\n",
    "\n",
    "        epoch_loss += loss.item()\n",
    "        batch_count += 1\n",
    "\n",
    "    # Calculate Accuracy on training and validation datasets\n",
    "    correct = 0\n",
    "    total = 0\n",
    "    with torch.no_grad():\n",
    "        for data in train_dataloader:\n",
    "            images, labels = data\n",
    "            images, labels = images.to(device), labels.to(device)\n",
    "            outputs = model(images)\n",
    "            _, predicted = torch.max(outputs.data, 1)\n",
    "            total += labels.size(0)\n",
    "            correct += (predicted == labels).sum().item()\n",
    "        train_accuracy = correct / total\n",
    "\n",
    "    correct = 0\n",
    "    total = 0\n",
    "    with torch.no_grad():\n",
    "        for data in val_dataloader:\n",
    "            images, labels = data\n",
    "            images, labels = images.to(device), labels.to(device)\n",
    "            outputs = model(images)\n",
    "            _, predicted = torch.max(outputs.data, 1)\n",
    "            total += labels.size(0)\n",
    "            correct += (predicted == labels).sum().item()\n",
    "        val_accuracy = correct / total\n",
    "    \n",
    "    print(f'Epoch {epoch + 1} loss: {epoch_loss/batch_count}, train accuracy: {train_accuracy}, val accuracy: {val_accuracy}')"
   ]
  },
  {
   "cell_type": "code",
   "execution_count": null,
   "metadata": {
    "execution": {
     "iopub.status.busy": "2025-02-21T11:27:33.723545Z",
     "iopub.status.idle": "2025-02-21T11:27:33.723814Z",
     "shell.execute_reply": "2025-02-21T11:27:33.723714Z"
    },
    "trusted": true
   },
   "outputs": [],
   "source": [
    "correct = 0\n",
    "total = 0\n",
    "model.eval()\n",
    "with torch.no_grad():\n",
    "    for data in test_dataloader:\n",
    "        images, labels = data\n",
    "        images, labels = images.to(device), labels.to(device)\n",
    "        outputs = model(images)\n",
    "        _, predicted = torch.max(outputs.data, 1)\n",
    "        total += labels.size(0)\n",
    "        correct += (predicted == labels).sum().item()\n",
    "    test_accuracy = correct / total\n",
    "\n",
    "print(f'test accuracy: {test_accuracy}')"
   ]
  },
  {
   "cell_type": "code",
   "execution_count": null,
   "metadata": {
    "trusted": true
   },
   "outputs": [],
   "source": [
    "torch.save(model.state_dict(), '../models/PetClassification-Resnet50.pth')"
   ]
  }
 ],
 "metadata": {
  "kaggle": {
   "accelerator": "gpu",
   "dataSources": [],
   "dockerImageVersionId": 30919,
   "isGpuEnabled": true,
   "isInternetEnabled": true,
   "language": "python",
   "sourceType": "notebook"
  },
  "kernelspec": {
   "display_name": "base",
   "language": "python",
   "name": "python3"
  },
  "language_info": {
   "codemirror_mode": {
    "name": "ipython",
    "version": 3
   },
   "file_extension": ".py",
   "mimetype": "text/x-python",
   "name": "python",
   "nbconvert_exporter": "python",
   "pygments_lexer": "ipython3",
   "version": "3.11.11"
  }
 },
 "nbformat": 4,
 "nbformat_minor": 4
}
